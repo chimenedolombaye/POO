{
 "cells": [
  {
   "cell_type": "markdown",
   "metadata": {},
   "source": [
    "# Methode 1"
   ]
  },
  {
   "cell_type": "code",
   "execution_count": 34,
   "metadata": {},
   "outputs": [
    {
     "name": "stdout",
     "output_type": "stream",
     "text": [
      "Vous avez déposé 800.0 fcfa dans votre compte.\n",
      "Vous avez retiré 200.0 fcfa sur votre compte.\n",
      "Solde actuel du compte ('1546782013', 'Mamadou Diop'): 200600.0 fcfa.\n",
      "Vous avez déposé 800.0 fcfa dans votre compte.\n",
      "Vous avez retiré 200.0 fcfa sur votre compte.\n",
      "Solde actuel du compte ('6543218097', 'Sokhna Sow'): 9800600.0 fcfa.\n",
      "Vous avez déposé 800.0 fcfa dans votre compte.\n",
      "Vous avez retiré 200.0 fcfa sur votre compte.\n",
      "Solde actuel du compte ('6584532901', 'Immaculier Brenda'): 130600.0 fcfa.\n"
     ]
    }
   ],
   "source": [
    "# Définissez la classe Account\n",
    "\n",
    "class Account:\n",
    "# ses attributs comme spécifié ci-dessus.\n",
    "\n",
    "    def __init__(self, account_number, account_balance, account_holder):\n",
    "        self.account_number = account_number\n",
    "        self.account_balance = account_balance\n",
    "        self.account_holder = account_holder\n",
    "        \n",
    "#Définissez la méthode deposit(). Il doit prendre en compte un argument, le montant à déposer, et l'ajouter au solde du compte.    \n",
    "    def deposit(self, amount):\n",
    "        if amount > 0:\n",
    "            self.account_balance += amount\n",
    "            print(f\"Vous avez déposé {amount} fcfa dans votre compte.\")\n",
    "        else:\n",
    "            print(\"Le montant du dépôt doit être supérieur à zéro.\")\n",
    "#Définissez la méthode Remove(). Il doit prendre en compte un argument, le montant à retirer, et le soustraire du solde du \n",
    "# compte. La méthode ne doit exécuter le retrait que si le solde du compte est supérieur ou égal au montant à retirer.  \n",
    "\n",
    "    def remove(self, amount):\n",
    "        if amount > 0:\n",
    "            if amount <= self.account_balance:\n",
    "                self.account_balance -= amount\n",
    "                print(f\"Vous avez retiré {amount} fcfa sur votre compte.\")\n",
    "            else:\n",
    "                print(\"Fonds insuffisants pour effectuer ce retrait.\")\n",
    "        else:\n",
    "            print(\"Le montant du retrait doit être supérieur à zéro.\")\n",
    "# Définissez la méthode check_balance(). Il devrait renvoyer le solde du compte courant.\n",
    "    def check_balance(self):\n",
    "        return self.account_balance\n",
    "    \n",
    "# Testez le programme en créant plusieurs instances de la classe\n",
    "accounts = []\n",
    "\n",
    "my_account1 = Account(\"1546782013\", 200000.0, \"Mamadou Diop\")\n",
    "my_account2 = Account(\"6543218097\", 9800000.0, \"Sokhna Sow\")\n",
    "my_account3 = Account(\"6584532901\", 130000.0, \"Immaculier Brenda\")\n",
    "\n",
    "accounts.append(my_account1)\n",
    "accounts.append(my_account2)\n",
    "accounts.append(my_account3)\n",
    "\n",
    "\n",
    "# Effectuer des transactions sur tous les comptes et afficher leurs soldes\n",
    " \n",
    "for account in accounts:\n",
    "    account.deposit(800.0)\n",
    "    account.remove(200.0)\n",
    "    balance = account.check_balance()\n",
    "    print(f\"Solde actuel du compte {account.account_number, account.account_holder}: {balance} fcfa.\")\n"
   ]
  },
  {
   "cell_type": "markdown",
   "metadata": {},
   "source": [
    "# Methode 2"
   ]
  },
  {
   "cell_type": "code",
   "execution_count": 27,
   "metadata": {},
   "outputs": [],
   "source": [
    "# Définissez la classe Account\n",
    "\n",
    "class Account:\n",
    "# ses attributs comme spécifié ci-dessus.\n",
    "\n",
    "    def __init__(self, account_number, account_balance, account_holder):\n",
    "        self.account_number = account_number\n",
    "        self.account_balance = account_balance\n",
    "        self.account_holder = account_holder\n",
    "        \n",
    "#Définissez la méthode deposit(). Il doit prendre en compte un argument, le montant à déposer, et l'ajouter au solde du compte.    \n",
    "    def deposit(self, amount):\n",
    "        if amount > 0:\n",
    "            self.account_balance += amount\n",
    "            print(f\"Vous avez déposé {amount} fcfa dans votre compte.\")\n",
    "        else:\n",
    "            print(\"Le montant du dépôt doit être supérieur à zéro.\")\n",
    "#Définissez la méthode Remove(). Il doit prendre en compte un argument, le montant à retirer, et le soustraire du solde du \n",
    "# compte. La méthode ne doit exécuter le retrait que si le solde du compte est supérieur ou égal au montant à retirer.  \n",
    "\n",
    "    def remove(self, amount):\n",
    "        if amount > 0:\n",
    "            if amount <= self.account_balance:\n",
    "                self.account_balance -= amount\n",
    "                print(f\"Vous avez retiré {amount} fcfa sur votre compte.\")\n",
    "            else:\n",
    "                print(\"Fonds insuffisants pour effectuer ce retrait.\")\n",
    "        else:\n",
    "            print(\"Le montant du retrait doit être supérieur à zéro.\")\n",
    "# Définissez la méthode check_balance(). Il devrait renvoyer le solde du compte courant.\n",
    "    def check_balance(self):\n",
    "        return self.account_balance\n",
    "    \n",
    "\n",
    "\n"
   ]
  },
  {
   "cell_type": "code",
   "execution_count": 30,
   "metadata": {},
   "outputs": [
    {
     "name": "stdout",
     "output_type": "stream",
     "text": [
      "Vous avez déposé 800.0 fcfa dans votre compte.\n",
      "Vous avez retiré 700.0 fcfa sur votre compte.\n",
      "Solde actuel de votre compte : 130100.0 fcfa.\n"
     ]
    }
   ],
   "source": [
    "# Créez une instance de la classe Account et affectez-la à une variable appelée \"my_account\". \n",
    "my_account = Account(\"6584532901\", 130000.0, \"Immaculier Brenda\")\n",
    "\n",
    "# Effectuer un dépôt de 8000 fcfa\n",
    "my_account.deposit(800.0)\n",
    "\n",
    "# Effectuer un retrait de 200 fcfa\n",
    "my_account.remove(700.0)\n",
    "\n",
    "# Obtenir le solde et l'afficher\n",
    "balance = my_account.check_balance()\n",
    "print(f\"Solde actuel de votre compte : {balance} fcfa.\")\n",
    "\n"
   ]
  },
  {
   "cell_type": "code",
   "execution_count": null,
   "metadata": {},
   "outputs": [],
   "source": []
  }
 ],
 "metadata": {
  "kernelspec": {
   "display_name": "Python 3",
   "language": "python",
   "name": "python3"
  },
  "language_info": {
   "codemirror_mode": {
    "name": "ipython",
    "version": 3
   },
   "file_extension": ".py",
   "mimetype": "text/x-python",
   "name": "python",
   "nbconvert_exporter": "python",
   "pygments_lexer": "ipython3",
   "version": "3.8.3"
  }
 },
 "nbformat": 4,
 "nbformat_minor": 4
}
